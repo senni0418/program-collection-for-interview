{
 "cells": [
  {
   "cell_type": "code",
   "execution_count": 17,
   "metadata": {},
   "outputs": [
    {
     "data": {
      "text/plain": [
       "[[1, 6], [8, 10], [15, 18]]"
      ]
     },
     "execution_count": 17,
     "metadata": {},
     "output_type": "execute_result"
    }
   ],
   "source": [
    "def merge(a, b):\n",
    "    c = []\n",
    "    if a[1] >= b[0]:\n",
    "        c.append(a[0])\n",
    "        c.append(b[1])\n",
    "    else:\n",
    "        return 0\n",
    "    return c\n",
    "\n",
    "def match(m, a):\n",
    "    if (m[0] == a[0]) or (m[0] == a[1]) or (m[1] == a[0]) or (m[1] == a[1]):\n",
    "        return True\n",
    "    return False\n",
    "\n",
    "def main(lst):\n",
    "    result = []\n",
    "    for i in range(len(lst)):\n",
    "        for j in range(i + 1, len(lst)):\n",
    "            new_range = merge(lst[i], lst[j])\n",
    "            if not (new_range == 0):\n",
    "                result.append(new_range)\n",
    "                \n",
    "    results = []\n",
    "    ans = []\n",
    "    for l in result:\n",
    "        if not (l == []):\n",
    "            results.append(l)\n",
    "            \n",
    "    for r in results:\n",
    "        ans.append(r)\n",
    "        \n",
    "    for m in results:\n",
    "        for a in lst:\n",
    "            if not match(m, a):\n",
    "                ans.append(a)\n",
    "    \n",
    "    return ans\n",
    "\n",
    "main([[1,3],[2,6],[8,10],[15,18]])"
   ]
  },
  {
   "cell_type": "code",
   "execution_count": 13,
   "metadata": {},
   "outputs": [
    {
     "data": {
      "text/plain": [
       "[[1, 3], [2, 6], [8, 10], [15, 18]]"
      ]
     },
     "execution_count": 13,
     "metadata": {},
     "output_type": "execute_result"
    }
   ],
   "source": [
    "[[1,3],[2,6],[8,10],[15,18]]\n",
    "# Output: [[1,6],[8,10],[15,18]]"
   ]
  },
  {
   "cell_type": "code",
   "execution_count": null,
   "metadata": {},
   "outputs": [],
   "source": []
  }
 ],
 "metadata": {
  "kernelspec": {
   "display_name": "Python 3",
   "language": "python",
   "name": "python3"
  },
  "language_info": {
   "codemirror_mode": {
    "name": "ipython",
    "version": 3
   },
   "file_extension": ".py",
   "mimetype": "text/x-python",
   "name": "python",
   "nbconvert_exporter": "python",
   "pygments_lexer": "ipython3",
   "version": "3.8.3"
  }
 },
 "nbformat": 4,
 "nbformat_minor": 4
}
