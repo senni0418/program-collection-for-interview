{
 "cells": [
  {
   "cell_type": "code",
   "execution_count": 2,
   "metadata": {},
   "outputs": [
    {
     "name": "stdout",
     "output_type": "stream",
     "text": [
      "[[3, 4]]\n"
     ]
    }
   ],
   "source": [
    "l = [[]]\n",
    "l.append([3,4])\n",
    "print(l[1:])"
   ]
  },
  {
   "cell_type": "code",
   "execution_count": 59,
   "metadata": {},
   "outputs": [
    {
     "data": {
      "text/plain": [
       "3880"
      ]
     },
     "execution_count": 59,
     "metadata": {},
     "output_type": "execute_result"
    }
   ],
   "source": [
    "import requests\n",
    "import json\n",
    "        \n",
    "\n",
    "def avgRotorSpeed(statusQuery, parentId):\n",
    "    # Write your code here\n",
    "    dicts = []\n",
    "    s = \"https://jsonmock.hackerrank.com/api/iot_devices/search?status={statusQuery}&page={number}\"\n",
    "    s = s.replace('{statusQuery}', statusQuery)\n",
    "    r = requests.get(s)\n",
    "    r_dict = json.loads(r.text)\n",
    "    total_pages = r_dict[\"total_pages\"]\n",
    "    \n",
    "    for i in range(1, total_pages + 1):\n",
    "        url = \"\" + s\n",
    "        url = url.replace('{number}', str(i))\n",
    "        response = requests.get(url)\n",
    "        dic = json.loads(response.text)\n",
    "        dicts.append(dic)\n",
    "        \n",
    "    data_arrays = [[]]\n",
    "    for response in dicts:\n",
    "        data = response[\"data\"]\n",
    "        data_arrays.append(data)\n",
    "    data_arrays = data_arrays[1:]\n",
    "    \n",
    "    devices = []\n",
    "    for data_array in data_arrays:\n",
    "        for device in data_array:\n",
    "            if \"parent\" in device.keys():\n",
    "                if not device[\"parent\"] == None:\n",
    "                    parent = device[\"parent\"]\n",
    "                    if parent[\"id\"] == parentId:\n",
    "                        devices.append(device)\n",
    "                        \n",
    "    ops = []\n",
    "    for device in devices:\n",
    "        op = device[\"operatingParams\"]\n",
    "        ops.append(op)\n",
    "        \n",
    "    rotorSpeeds = []\n",
    "    for op in ops:\n",
    "        rotorSpeed = op[\"rotorSpeed\"]\n",
    "        rotorSpeeds.append(rotorSpeed)\n",
    "    \n",
    "    total = 0\n",
    "    for speed in rotorSpeeds:\n",
    "        total += speed\n",
    "    \n",
    "    if len(rotorSpeeds) == 0:\n",
    "        return 0\n",
    "    return total // len(rotorSpeeds)\n",
    "avgRotorSpeed(\"RUNNING\", 7)"
   ]
  },
  {
   "cell_type": "code",
   "execution_count": 53,
   "metadata": {},
   "outputs": [
    {
     "name": "stdout",
     "output_type": "stream",
     "text": [
      "[['age=Middle-aged', 'sex=Male', 'education=Bachelors', 'native-country=United-States', 'race=White', 'marital-status=Never-married', 'workclass=State-gov', 'occupation=Adm-clerical', 'hours-per-week=Full-time', 'income=Small', 'capital-gain=Low', 'capital-loss=None'], ['age=Senior', 'sex=Male', 'education=Bachelors', 'native-country=United-States', 'race=White', 'marital-status=Married-civ-spouse', 'workclass=Self-emp-not-inc', 'occupation=Exec-managerial', 'hours-per-week=Part-time', 'income=Small', 'capital-gain=None', 'capital-loss=None']]\n"
     ]
    }
   ],
   "source": [
    "import csv\n",
    "\n",
    "with open('file.csv', newline='') as f:\n",
    "    reader = csv.reader(f)\n",
    "    data = list(reader)\n",
    "\n",
    "print(data)"
   ]
  },
  {
   "cell_type": "code",
   "execution_count": 55,
   "metadata": {},
   "outputs": [
    {
     "name": "stdout",
     "output_type": "stream",
     "text": [
      "{'age': ['Young', 'Middle-aged', 'Senior']}\n"
     ]
    }
   ],
   "source": [
    "dic = {}\n",
    "dic['age'] = ['Young', 'Middle-aged', 'Senior']\n",
    "print(dic)"
   ]
  },
  {
   "cell_type": "code",
   "execution_count": 57,
   "metadata": {},
   "outputs": [
    {
     "name": "stdout",
     "output_type": "stream",
     "text": [
      "[1, 2]\n"
     ]
    }
   ],
   "source": [
    "a = {1,2}\n",
    "l = []\n",
    "l.append(a)\n",
    "print(list(a))"
   ]
  },
  {
   "cell_type": "code",
   "execution_count": null,
   "metadata": {},
   "outputs": [],
   "source": []
  }
 ],
 "metadata": {
  "kernelspec": {
   "display_name": "Python 3",
   "language": "python",
   "name": "python3"
  },
  "language_info": {
   "codemirror_mode": {
    "name": "ipython",
    "version": 3
   },
   "file_extension": ".py",
   "mimetype": "text/x-python",
   "name": "python",
   "nbconvert_exporter": "python",
   "pygments_lexer": "ipython3",
   "version": "3.8.3"
  }
 },
 "nbformat": 4,
 "nbformat_minor": 4
}
